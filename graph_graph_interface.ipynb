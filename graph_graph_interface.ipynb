{
 "cells": [
  {
   "cell_type": "code",
   "execution_count": 1,
   "metadata": {
    "collapsed": false
   },
   "outputs": [],
   "source": [
    "import numpy as np\n",
    "import pylab as plt\n",
    "%matplotlib inline "
   ]
  },
  {
   "cell_type": "markdown",
   "metadata": {},
   "source": [
    "Some parameters"
   ]
  },
  {
   "cell_type": "code",
   "execution_count": 2,
   "metadata": {
    "collapsed": true
   },
   "outputs": [],
   "source": [
    "N = 20 # Number of vertices\n",
    "R = 1 # Radio for plot\n",
    "p = 0.1 #probability of connection"
   ]
  },
  {
   "cell_type": "code",
   "execution_count": 3,
   "metadata": {
    "collapsed": true
   },
   "outputs": [],
   "source": [
    "A = np.zeros((N,N)) # Starting with a matrix with zeros"
   ]
  },
  {
   "cell_type": "code",
   "execution_count": 4,
   "metadata": {
    "collapsed": true
   },
   "outputs": [],
   "source": [
    "# making connections to element in circle \n",
    "for i in range(N-1):\n",
    "    A[i][i+1] = 1\n",
    "    A[i-1][i] = 1\n",
    "    for j in range(i):\n",
    "        if np.random.rand()<p:\n",
    "            A[j][i] = 1 # connecting vertices with probability p"
   ]
  },
  {
   "cell_type": "code",
   "execution_count": 5,
   "metadata": {
    "collapsed": false
   },
   "outputs": [],
   "source": [
    "A = A + A.T # symmetric matrix"
   ]
  },
  {
   "cell_type": "code",
   "execution_count": 6,
   "metadata": {
    "collapsed": false
   },
   "outputs": [
    {
     "data": {
      "text/plain": [
       "(20, 20)"
      ]
     },
     "execution_count": 6,
     "metadata": {},
     "output_type": "execute_result"
    }
   ],
   "source": [
    "A.shape"
   ]
  },
  {
   "cell_type": "markdown",
   "metadata": {},
   "source": [
    "Building a similar graph B"
   ]
  },
  {
   "cell_type": "code",
   "execution_count": 7,
   "metadata": {
    "collapsed": true
   },
   "outputs": [],
   "source": [
    "B = np.zeros((N,N))"
   ]
  },
  {
   "cell_type": "code",
   "execution_count": 8,
   "metadata": {
    "collapsed": true
   },
   "outputs": [],
   "source": [
    "for i in range(N-1):\n",
    "    B[i][i+1] = 1\n",
    "    B[i-1][i] = 1\n",
    "    for j in range(i):\n",
    "        if np.random.rand()<p:\n",
    "            B[j][i] = 1"
   ]
  },
  {
   "cell_type": "code",
   "execution_count": 9,
   "metadata": {
    "collapsed": true
   },
   "outputs": [],
   "source": [
    "B = B + B.T"
   ]
  },
  {
   "cell_type": "code",
   "execution_count": 10,
   "metadata": {
    "collapsed": false
   },
   "outputs": [
    {
     "data": {
      "text/plain": [
       "(20, 20)"
      ]
     },
     "execution_count": 10,
     "metadata": {},
     "output_type": "execute_result"
    }
   ],
   "source": [
    "B.shape"
   ]
  },
  {
   "cell_type": "markdown",
   "metadata": {},
   "source": [
    "Plotting the two graphs"
   ]
  },
  {
   "cell_type": "code",
   "execution_count": 11,
   "metadata": {
    "collapsed": true
   },
   "outputs": [],
   "source": [
    "XA = R*np.cos(np.linspace(-np.pi, np.pi, N))\n",
    "YA = R*np.sin(np.linspace(-np.pi, np.pi, N))\n",
    "XB = R*np.cos(np.linspace(-np.pi, np.pi, N)) + 3\n",
    "YB = R*np.sin(np.linspace(-np.pi, np.pi, N))"
   ]
  },
  {
   "cell_type": "code",
   "execution_count": 31,
   "metadata": {
    "collapsed": false
   },
   "outputs": [
    {
     "data": {
      "text/plain": [
       "(-2.0, 5.0, -1.5, 1.5)"
      ]
     },
     "execution_count": 31,
     "metadata": {},
     "output_type": "execute_result"
    },
    {
     "data": {
      "image/png": "[encoded data removed]",
      "text/plain": [
       "<matplotlib.figure.Figure at 0x105b53b90>"
      ]
     },
     "metadata": {},
     "output_type": "display_data"
    }
   ],
   "source": [
    "fig, ax = plt.subplots()\n",
    "plt.scatter(XA,YA)\n",
    "for ni in range(N):\n",
    "    for nj in range(ni):\n",
    "        if A[ni][nj] == 1.:\n",
    "            plt.plot([XA[ni],XA[nj]],[YA[ni],YA[nj]],'k')\n",
    "\n",
    "plt.scatter(XB,YB)\n",
    "for ni in range(N):\n",
    "    for nj in range(ni):\n",
    "        if B[ni][nj] == 1.:\n",
    "            plt.plot([XB[ni],XB[nj]],[YB[ni],YB[nj]],'k')\n",
    "ax.set_aspect('equal')\n",
    "plt.axis('off')"
   ]
  },
  {
   "cell_type": "markdown",
   "metadata": {},
   "source": [
    "Building joint adjacency matrix"
   ]
  },
  {
   "cell_type": "code",
   "execution_count": 13,
   "metadata": {
    "collapsed": false
   },
   "outputs": [],
   "source": [
    "MA1 = np.array([np.concatenate((A[i],np.zeros(N))) for i in range(N)])"
   ]
  },
  {
   "cell_type": "code",
   "execution_count": 14,
   "metadata": {
    "collapsed": false
   },
   "outputs": [
    {
     "data": {
      "text/plain": [
       "(20, 40)"
      ]
     },
     "execution_count": 14,
     "metadata": {},
     "output_type": "execute_result"
    }
   ],
   "source": [
    "MA1.shape"
   ]
  },
  {
   "cell_type": "code",
   "execution_count": 15,
   "metadata": {
    "collapsed": true
   },
   "outputs": [],
   "source": [
    "MA2 = np.zeros((N,2*N))"
   ]
  },
  {
   "cell_type": "code",
   "execution_count": 16,
   "metadata": {
    "collapsed": false
   },
   "outputs": [],
   "source": [
    "MA = np.concatenate((MA1,MA2))"
   ]
  },
  {
   "cell_type": "code",
   "execution_count": 17,
   "metadata": {
    "collapsed": true
   },
   "outputs": [],
   "source": [
    "MB2 = np.array([np.concatenate((np.zeros(N), B[i])) for i in range(N)])"
   ]
  },
  {
   "cell_type": "code",
   "execution_count": 18,
   "metadata": {
    "collapsed": true
   },
   "outputs": [],
   "source": [
    "MB1 = np.zeros((N,2*N))"
   ]
  },
  {
   "cell_type": "code",
   "execution_count": 19,
   "metadata": {
    "collapsed": true
   },
   "outputs": [],
   "source": [
    "MB = np.concatenate((MB1,MB2))"
   ]
  },
  {
   "cell_type": "code",
   "execution_count": 20,
   "metadata": {
    "collapsed": false
   },
   "outputs": [],
   "source": [
    "M = MA + MB"
   ]
  },
  {
   "cell_type": "code",
   "execution_count": 21,
   "metadata": {
    "collapsed": false
   },
   "outputs": [
    {
     "data": {
      "text/plain": [
       "(0.0, 40.0, 0.0, 40.0)"
      ]
     },
     "execution_count": 21,
     "metadata": {},
     "output_type": "execute_result"
    },
    {
     "data": {
      "image/png": "[encoded data removed]",
      "text/plain": [
       "<matplotlib.figure.Figure at 0x105808410>"
      ]
     },
     "metadata": {},
     "output_type": "display_data"
    }
   ],
   "source": [
    "# heat mat represents the joint adjacency matrix\n",
    "fig2, ax2 = plt.subplots()\n",
    "heatmap = ax2.pcolor(M, cmap=plt.cm.Blues)\n",
    "ax2.set_aspect('equal')\n",
    "plt.axis('off')"
   ]
  },
  {
   "cell_type": "markdown",
   "metadata": {},
   "source": [
    "Now the Laplacian of the two graphs"
   ]
  },
  {
   "cell_type": "code",
   "execution_count": 22,
   "metadata": {
    "collapsed": false
   },
   "outputs": [],
   "source": [
    "L = np.diag(M.sum(axis=1))-M"
   ]
  },
  {
   "cell_type": "code",
   "execution_count": 23,
   "metadata": {
    "collapsed": false
   },
   "outputs": [],
   "source": [
    "#finding the eigenvalues\n",
    "E_L = np.around(np.linalg.eigvals(L), decimals = 3)"
   ]
  },
  {
   "cell_type": "markdown",
   "metadata": {},
   "source": [
    "Connecting the two graphs via the interface (starting with one node)"
   ]
  },
  {
   "cell_type": "code",
   "execution_count": 32,
   "metadata": {
    "collapsed": false
   },
   "outputs": [],
   "source": [
    "M_C = M[:][:] # copying above matrix"
   ]
  },
  {
   "cell_type": "code",
   "execution_count": 33,
   "metadata": {
    "collapsed": false
   },
   "outputs": [],
   "source": [
    "# only one new edge, connecting node 5 of G1 and node 15 from G2\n",
    "M_C[5][35] = 1\n",
    "M_C[35][5] = 1"
   ]
  },
  {
   "cell_type": "code",
   "execution_count": 34,
   "metadata": {
    "collapsed": false
   },
   "outputs": [
    {
     "data": {
      "text/plain": [
       "(-2.0, 5.0, -1.5, 1.5)"
      ]
     },
     "execution_count": 34,
     "metadata": {},
     "output_type": "execute_result"
    },
    {
     "data": {
      "image/png": "[encoded data removed]",
      "text/plain": [
       "<matplotlib.figure.Figure at 0x106948ad0>"
      ]
     },
     "metadata": {},
     "output_type": "display_data"
    }
   ],
   "source": [
    "fig, ax = plt.subplots()\n",
    "plt.scatter(XA,YA)\n",
    "for ni in range(N):\n",
    "    for nj in range(ni):\n",
    "        if A[ni][nj] == 1.:\n",
    "            plt.plot([XA[ni],XA[nj]],[YA[ni],YA[nj]],'k')\n",
    "\n",
    "plt.scatter(XB,YB)\n",
    "for ni in range(N):\n",
    "    for nj in range(ni):\n",
    "        if B[ni][nj] == 1.:\n",
    "            plt.plot([XB[ni],XB[nj]],[YB[ni],YB[nj]],'k')\n",
    "\n",
    "plt.plot([XA[5],XB[15]],[YA[5],YB[15]],'red')\n",
    "\n",
    "ax.set_aspect('equal')\n",
    "plt.axis('off')"
   ]
  },
  {
   "cell_type": "code",
   "execution_count": 36,
   "metadata": {
    "collapsed": false
   },
   "outputs": [
    {
     "data": {
      "text/plain": [
       "(0.0, 40.0, 0.0, 40.0)"
      ]
     },
     "execution_count": 36,
     "metadata": {},
     "output_type": "execute_result"
    },
    {
     "data": {
      "image/png": "[encoded data removed]",
      "text/plain": [
       "<matplotlib.figure.Figure at 0x106fde850>"
      ]
     },
     "metadata": {},
     "output_type": "display_data"
    }
   ],
   "source": [
    "# New heat map has a dot on overlapping region\n",
    "fig3, ax3 = plt.subplots()\n",
    "heatmap = ax3.pcolor(M_C, cmap=plt.cm.Blues)\n",
    "ax3.set_aspect('equal')\n",
    "plt.axis('off')"
   ]
  },
  {
   "cell_type": "code",
   "execution_count": 37,
   "metadata": {
    "collapsed": true
   },
   "outputs": [],
   "source": [
    "L_C = np.diag(M_C.sum(axis=1))-M_C # Laplacian of new matrix"
   ]
  },
  {
   "cell_type": "code",
   "execution_count": 38,
   "metadata": {
    "collapsed": false
   },
   "outputs": [],
   "source": [
    "E_L_C = np.around(np.linalg.eigvals(L_C), decimals = 3)"
   ]
  },
  {
   "cell_type": "code",
   "execution_count": 43,
   "metadata": {
    "collapsed": false
   },
   "outputs": [
    {
     "data": {
      "text/plain": [
       "(array([ 2.,  0.,  0.,  0.,  1.,  1.,  0.,  0.,  1.,  1.,  1.,  2.,  2.,\n",
       "         0.,  1.,  0.,  0.,  1.,  0.,  0.,  1.,  0.,  0.,  2.,  0.,  1.,\n",
       "         1.,  0.,  1.,  2.,  0.,  0.,  1.,  0.,  0.,  1.,  0.,  2.,  2.,\n",
       "         0.,  0.,  0.,  0.,  1.,  1.,  0.,  0.,  1.,  1.,  1.,  0.,  1.,\n",
       "         0.,  0.,  1.,  0.,  0.,  0.,  1.,  0.,  0.,  1.,  1.,  0.,  1.,\n",
       "         0.,  0.,  0.,  0.,  0.,  0.,  0.,  0.,  0.,  0.,  0.,  0.,  1.,\n",
       "         0.,  1.]),\n",
       " array([ 0.     ,  0.10085,  0.2017 ,  0.30255,  0.4034 ,  0.50425,\n",
       "         0.6051 ,  0.70595,  0.8068 ,  0.90765,  1.0085 ,  1.10935,\n",
       "         1.2102 ,  1.31105,  1.4119 ,  1.51275,  1.6136 ,  1.71445,\n",
       "         1.8153 ,  1.91615,  2.017  ,  2.11785,  2.2187 ,  2.31955,\n",
       "         2.4204 ,  2.52125,  2.6221 ,  2.72295,  2.8238 ,  2.92465,\n",
       "         3.0255 ,  3.12635,  3.2272 ,  3.32805,  3.4289 ,  3.52975,\n",
       "         3.6306 ,  3.73145,  3.8323 ,  3.93315,  4.034  ,  4.13485,\n",
       "         4.2357 ,  4.33655,  4.4374 ,  4.53825,  4.6391 ,  4.73995,\n",
       "         4.8408 ,  4.94165,  5.0425 ,  5.14335,  5.2442 ,  5.34505,\n",
       "         5.4459 ,  5.54675,  5.6476 ,  5.74845,  5.8493 ,  5.95015,\n",
       "         6.051  ,  6.15185,  6.2527 ,  6.35355,  6.4544 ,  6.55525,\n",
       "         6.6561 ,  6.75695,  6.8578 ,  6.95865,  7.0595 ,  7.16035,\n",
       "         7.2612 ,  7.36205,  7.4629 ,  7.56375,  7.6646 ,  7.76545,\n",
       "         7.8663 ,  7.96715,  8.068  ]),\n",
       " <a list of 80 Patch objects>)"
      ]
     },
     "execution_count": 43,
     "metadata": {},
     "output_type": "execute_result"
    },
    {
     "data": {
      "image/png": "[encoded data removed]",
      "text/plain": [
       "<matplotlib.figure.Figure at 0x106814b10>"
      ]
     },
     "metadata": {},
     "output_type": "display_data"
    }
   ],
   "source": [
    "plt.hist(E_L, alpha = 0.5, bins = 80)\n",
    "plt.hist(E_L_C, alpha = 0.5, bins = 80)"
   ]
  },
  {
   "cell_type": "code",
   "execution_count": 44,
   "metadata": {
    "collapsed": true
   },
   "outputs": [],
   "source": [
    "E_L.sort()"
   ]
  },
  {
   "cell_type": "code",
   "execution_count": 45,
   "metadata": {
    "collapsed": false
   },
   "outputs": [
    {
     "data": {
      "text/plain": [
       "array([ 0.   ,  0.   ,  0.447,  0.587,  0.806,  0.84 ,  1.074,  1.085,\n",
       "        1.141,  1.213,  1.305,  1.493,  1.652,  2.013,  2.33 ,  2.391,\n",
       "        2.598,  2.624,  2.695,  2.891,  2.963,  3.246,  3.294,  3.71 ,\n",
       "        3.785,  3.859,  3.866,  4.335,  4.348,  4.765,  4.825,  4.911,\n",
       "        5.152,  5.328,  5.886,  5.91 ,  6.348,  6.378,  7.865,  8.039])"
      ]
     },
     "execution_count": 45,
     "metadata": {},
     "output_type": "execute_result"
    }
   ],
   "source": [
    "E_L"
   ]
  },
  {
   "cell_type": "code",
   "execution_count": 46,
   "metadata": {
    "collapsed": true
   },
   "outputs": [],
   "source": [
    "E_L_C.sort()"
   ]
  },
  {
   "cell_type": "code",
   "execution_count": 47,
   "metadata": {
    "collapsed": false
   },
   "outputs": [
    {
     "data": {
      "text/plain": [
       "array([ 0.   ,  0.053,  0.447,  0.589,  0.81 ,  0.92 ,  1.075,  1.135,\n",
       "        1.145,  1.253,  1.305,  1.497,  1.76 ,  2.021,  2.331,  2.405,\n",
       "        2.598,  2.646,  2.866,  2.925,  2.99 ,  3.256,  3.558,  3.777,\n",
       "        3.822,  3.859,  3.906,  4.338,  4.47 ,  4.825,  4.841,  4.989,\n",
       "        5.186,  5.511,  5.901,  6.194,  6.349,  6.511,  7.866,  8.068])"
      ]
     },
     "execution_count": 47,
     "metadata": {},
     "output_type": "execute_result"
    }
   ],
   "source": [
    "E_L_C"
   ]
  },
  {
   "cell_type": "code",
   "execution_count": null,
   "metadata": {
    "collapsed": true
   },
   "outputs": [],
   "source": []
  }
 ],
 "metadata": {
  "kernelspec": {
   "display_name": "Python 2",
   "language": "python",
   "name": "python2"
  },
  "language_info": {
   "codemirror_mode": {
    "name": "ipython",
    "version": 2
   },
   "file_extension": ".py",
   "mimetype": "text/x-python",
   "name": "python",
   "nbconvert_exporter": "python",
   "pygments_lexer": "ipython2",
   "version": "2.7.11"
  }
 },
 "nbformat": 4,
 "nbformat_minor": 0
}
