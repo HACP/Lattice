{
 "cells": [
  {
   "cell_type": "code",
   "execution_count": 1,
   "metadata": {
    "collapsed": true
   },
   "outputs": [],
   "source": [
    "%matplotlib inline"
   ]
  },
  {
   "cell_type": "code",
   "execution_count": 2,
   "metadata": {
    "collapsed": true
   },
   "outputs": [],
   "source": [
    "import numpy as np\n",
    "import pylab as plt"
   ]
  },
  {
   "cell_type": "markdown",
   "metadata": {},
   "source": [
    "size of the lattice"
   ]
  },
  {
   "cell_type": "code",
   "execution_count": 3,
   "metadata": {
    "collapsed": true
   },
   "outputs": [],
   "source": [
    "N = 100"
   ]
  },
  {
   "cell_type": "markdown",
   "metadata": {},
   "source": [
    "Matrix containing the distribution of particles. At t = 0 the lattice is empty"
   ]
  },
  {
   "cell_type": "code",
   "execution_count": 4,
   "metadata": {
    "collapsed": false
   },
   "outputs": [],
   "source": [
    "M = np.zeros((N,N))"
   ]
  },
  {
   "cell_type": "markdown",
   "metadata": {},
   "source": [
    "Possible moves depending on the location of the particle: center, edged, corners."
   ]
  },
  {
   "cell_type": "code",
   "execution_count": 5,
   "metadata": {
    "collapsed": true
   },
   "outputs": [],
   "source": [
    "moves_center = [[1,0],[-1,0],[0,1],[0,-1],[1,1],[1,-1],[-1,1],[-1,-1]]\n",
    "moves_north = [[1,0],[-1,0],[0,-1],[1,-1],[-1,-1]]\n",
    "moves_south = [[1,0],[-1,0],[0,1],[1,1],[-1,1]]\n",
    "moves_east = [[-1,0],[0,1],[0,-1],[-1,1],[-1,-1]]\n",
    "moves_west = [[1,0],[0,1],[0,-1],[1,1],[1,-1]]\n",
    "moves_sw = [[1,0],[0,1],[1,1]]\n",
    "moves_se = [[-1,0],[0,1],[-1,1]]\n",
    "moves_nw = [[1,0],[0,-1],[1,-1]]\n",
    "moves_ne = [[-1,0],[0,-1],[-1,-1]]"
   ]
  },
  {
   "cell_type": "markdown",
   "metadata": {},
   "source": [
    "Defining the jumps based on the original position"
   ]
  },
  {
   "cell_type": "code",
   "execution_count": 6,
   "metadata": {
    "collapsed": true
   },
   "outputs": [],
   "source": [
    "def jump(p_coord):\n",
    "    if 0 < p_coord[0] < N-1 and 0 < p_coord[1] < N-1:\n",
    "        p_coord = np.add(p_coord, moves_center[np.random.randint(len(moves_center))])\n",
    "    if 0 < p_coord[0] < N-1 and p_coord[1]==N-1:\n",
    "        p_coord = np.add(p_coord, moves_north[np.random.randint(len(moves_north))])\n",
    "    if 0 < p_coord[0] < N-1 and p_coord[1]==0:\n",
    "        p_coord = np.add(p_coord, moves_south[np.random.randint(len(moves_south))])\n",
    "    if 0 < p_coord[1] < N-1 and p_coord[0]==N-1:\n",
    "        p_coord = np.add(p_coord, moves_east[np.random.randint(len(moves_east))])\n",
    "    if 0 < p_coord[1] < N-1 and p_coord[0]==0:\n",
    "        p_coord = np.add(p_coord, moves_west[np.random.randint(len(moves_west))])\n",
    "    if p_coord[0] == 0 and p_coord[1] == 0:\n",
    "        p_coord = np.add(p_coord, moves_sw[np.random.randint(len(moves_sw))])\n",
    "    if p_coord[0] == N-1 and p_coord[1] == 0:\n",
    "        p_coord = np.add(p_coord, moves_se[np.random.randint(len(moves_se))])\n",
    "    if p_coord[0] == 0 and p_coord[1] == N-1:\n",
    "        p_coord = np.add(p_coord, moves_nw[np.random.randint(len(moves_nw))])\n",
    "    if p_coord[0] == N-1 and p_coord[1] == N-1:\n",
    "        p_coord = np.add(p_coord, moves_ne[np.random.randint(len(moves_ne))])\n",
    "        \n",
    "    return p_coord"
   ]
  },
  {
   "cell_type": "markdown",
   "metadata": {},
   "source": [
    "Defining the random walk for a particle given an initial position. The matrix M is updated by adding one particle to the landing position. "
   ]
  },
  {
   "cell_type": "code",
   "execution_count": 7,
   "metadata": {
    "collapsed": true
   },
   "outputs": [],
   "source": [
    "def iteration(p0, M, T):\n",
    "    for ii in range(T):\n",
    "        p0 = jump(p0)\n",
    "    M[p0[0]][p0[1]] = M[p0[0]][p0[1]] + 1\n",
    "    return M"
   ]
  },
  {
   "cell_type": "markdown",
   "metadata": {},
   "source": [
    "Starting at two different positions, a large number of particles are launched"
   ]
  },
  {
   "cell_type": "code",
   "execution_count": 8,
   "metadata": {
    "collapsed": false
   },
   "outputs": [],
   "source": [
    "p0 = [50,50]\n",
    "p1 = [20,80]\n",
    "for iii in range(10000):\n",
    "    M = iteration(p0, M, 100)\n",
    "    M = iteration(p1, M, 100)"
   ]
  },
  {
   "cell_type": "markdown",
   "metadata": {},
   "source": [
    "Plotting the results"
   ]
  },
  {
   "cell_type": "code",
   "execution_count": 9,
   "metadata": {
    "collapsed": false
   },
   "outputs": [
    {
     "data": {
      "image/png": "[encoded data removed]",
      "text/plain": [
       "<matplotlib.figure.Figure at 0x7f9b74bb3410>"
      ]
     },
     "metadata": {},
     "output_type": "display_data"
    }
   ],
   "source": [
    "fig, ax = plt.subplots()\n",
    "heatmap = ax.pcolor(M, cmap=plt.cm.Blues)\n",
    "ax.set_aspect(1)\n",
    "plt.show()"
   ]
  },
  {
   "cell_type": "code",
   "execution_count": 10,
   "metadata": {
    "collapsed": true
   },
   "outputs": [],
   "source": [
    "p0 = [50,50]\n",
    "p1 = [20,80]\n",
    "for iii in range(10000):\n",
    "    M = iteration(p0, M, 1000)\n",
    "    M = iteration(p1, M, 1000)"
   ]
  },
  {
   "cell_type": "code",
   "execution_count": null,
   "metadata": {
    "collapsed": true
   },
   "outputs": [],
   "source": []
  }
 ],
 "metadata": {
  "kernelspec": {
   "display_name": "Python 2",
   "language": "python",
   "name": "python2"
  },
  "language_info": {
   "codemirror_mode": {
    "name": "ipython",
    "version": 2
   },
   "file_extension": ".py",
   "mimetype": "text/x-python",
   "name": "python",
   "nbconvert_exporter": "python",
   "pygments_lexer": "ipython2",
   "version": "2.7.6"
  }
 },
 "nbformat": 4,
 "nbformat_minor": 0
}
