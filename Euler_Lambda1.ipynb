{
 "cells": [
  {
   "cell_type": "code",
   "execution_count": 10,
   "metadata": {
    "collapsed": true
   },
   "outputs": [],
   "source": [
    "%matplotlib inline \n",
    "import numpy as np\n",
    "import pylab as plt"
   ]
  },
  {
   "cell_type": "code",
   "execution_count": 11,
   "metadata": {
    "collapsed": false
   },
   "outputs": [],
   "source": [
    "N = 100\n",
    "A0 = np.random.rand(N, N)\n",
    "A = 0.5*(A0 + A0.T)"
   ]
  },
  {
   "cell_type": "code",
   "execution_count": 12,
   "metadata": {
    "collapsed": false
   },
   "outputs": [],
   "source": [
    "A = A - np.diag(np.diag(A))"
   ]
  },
  {
   "cell_type": "code",
   "execution_count": 13,
   "metadata": {
    "collapsed": false
   },
   "outputs": [
    {
     "data": {
      "text/plain": [
       "array([[ 0.        ,  0.45683844,  0.43479497, ...,  0.70440805,\n",
       "         0.80268135,  0.53615602],\n",
       "       [ 0.45683844,  0.        ,  0.29953243, ...,  0.27434726,\n",
       "         0.75091376,  0.31010318],\n",
       "       [ 0.43479497,  0.29953243,  0.        , ...,  0.73640707,\n",
       "         0.61036844,  0.58305861],\n",
       "       ..., \n",
       "       [ 0.70440805,  0.27434726,  0.73640707, ...,  0.        ,\n",
       "         0.73941904,  0.20691704],\n",
       "       [ 0.80268135,  0.75091376,  0.61036844, ...,  0.73941904,\n",
       "         0.        ,  0.13901602],\n",
       "       [ 0.53615602,  0.31010318,  0.58305861, ...,  0.20691704,\n",
       "         0.13901602,  0.        ]])"
      ]
     },
     "execution_count": 13,
     "metadata": {},
     "output_type": "execute_result"
    }
   ],
   "source": [
    "A"
   ]
  },
  {
   "cell_type": "code",
   "execution_count": 14,
   "metadata": {
    "collapsed": true
   },
   "outputs": [],
   "source": [
    "def AM(A,epsilon):\n",
    "    return (A>epsilon).astype(int)"
   ]
  },
  {
   "cell_type": "code",
   "execution_count": 15,
   "metadata": {
    "collapsed": false
   },
   "outputs": [
    {
     "data": {
      "text/plain": [
       "array([[0, 0, 0, ..., 1, 1, 1],\n",
       "       [0, 0, 0, ..., 0, 1, 0],\n",
       "       [0, 0, 0, ..., 1, 1, 1],\n",
       "       ..., \n",
       "       [1, 0, 1, ..., 0, 1, 0],\n",
       "       [1, 1, 1, ..., 1, 0, 0],\n",
       "       [1, 0, 1, ..., 0, 0, 0]])"
      ]
     },
     "execution_count": 15,
     "metadata": {},
     "output_type": "execute_result"
    }
   ],
   "source": [
    "AM(A,0.5)"
   ]
  },
  {
   "cell_type": "code",
   "execution_count": 16,
   "metadata": {
    "collapsed": false
   },
   "outputs": [],
   "source": [
    "EPS = []\n",
    "EULER = []\n",
    "EIGEN1 = []\n",
    "for x in np.linspace(0,1,100):\n",
    "    eAM = AM(A,x)\n",
    "    l1 = sorted(np.linalg.eigvals(eAM), reverse = True)[0]\n",
    "    EULER.append(len(A) - np.trace(np.dot(eAM,eAM)))\n",
    "    EIGEN1.append(l1)\n",
    "    EPS.append(x)"
   ]
  },
  {
   "cell_type": "code",
   "execution_count": null,
   "metadata": {
    "collapsed": true
   },
   "outputs": [],
   "source": []
  },
  {
   "cell_type": "code",
   "execution_count": 17,
   "metadata": {
    "collapsed": false
   },
   "outputs": [
    {
     "data": {
      "image/png": "[encoded data removed]",
      "text/plain": [
       "<matplotlib.figure.Figure at 0x7f67fa28e090>"
      ]
     },
     "metadata": {},
     "output_type": "display_data"
    }
   ],
   "source": [
    "plt.scatter(EPS, np.array(EULER)/(1.*N*N), edgecolor = '')\n",
    "plt.scatter(EPS, np.array(EIGEN1)/(1.*N), edgecolor = '')\n",
    "plt.show()"
   ]
  },
  {
   "cell_type": "code",
   "execution_count": 18,
   "metadata": {
    "collapsed": false
   },
   "outputs": [
    {
     "data": {
      "text/plain": [
       "<matplotlib.collections.PathCollection at 0x7f67fa192b10>"
      ]
     },
     "execution_count": 18,
     "metadata": {},
     "output_type": "execute_result"
    },
    {
     "data": {
      "image/png": "[encoded data removed]",
      "text/plain": [
       "<matplotlib.figure.Figure at 0x7f67fa37ba50>"
      ]
     },
     "metadata": {},
     "output_type": "display_data"
    }
   ],
   "source": [
    "plt.scatter(EPS,np.array(EULER)/(1.*N*N)+np.array(EIGEN1)/(1.*N))"
   ]
  },
  {
   "cell_type": "code",
   "execution_count": 19,
   "metadata": {
    "collapsed": true
   },
   "outputs": [],
   "source": [
    "N = 100\n",
    "A0 = np.random.exponential(size = N*N)\n",
    "A0 = np.reshape(A0, (-1, N))\n",
    "A = 0.5*(A0 + A0.T)\n",
    "A = A - np.diag(np.diag(A))"
   ]
  },
  {
   "cell_type": "code",
   "execution_count": 20,
   "metadata": {
    "collapsed": true
   },
   "outputs": [],
   "source": [
    "EPS = []\n",
    "EULER = []\n",
    "EIGEN1 = []\n",
    "for x in np.linspace(0,1,100):\n",
    "    eAM = AM(A,x)\n",
    "    l1 = sorted(np.linalg.eigvals(eAM), reverse = True)[0]\n",
    "    EULER.append(len(A) - np.trace(np.dot(eAM,eAM)))\n",
    "    EIGEN1.append(l1)\n",
    "    EPS.append(x)"
   ]
  },
  {
   "cell_type": "code",
   "execution_count": 21,
   "metadata": {
    "collapsed": false
   },
   "outputs": [
    {
     "data": {
      "image/png": "[encoded data removed]",
      "text/plain": [
       "<matplotlib.figure.Figure at 0x7f67fa131d10>"
      ]
     },
     "metadata": {},
     "output_type": "display_data"
    }
   ],
   "source": [
    "plt.scatter(EPS, np.array(EULER)/(1.*N*N), edgecolor = '')\n",
    "plt.scatter(EPS, np.array(EIGEN1)/(1.*N), edgecolor = '')\n",
    "plt.show()"
   ]
  },
  {
   "cell_type": "code",
   "execution_count": null,
   "metadata": {
    "collapsed": true
   },
   "outputs": [],
   "source": []
  }
 ],
 "metadata": {
  "kernelspec": {
   "display_name": "Python 2",
   "language": "python",
   "name": "python2"
  },
  "language_info": {
   "codemirror_mode": {
    "name": "ipython",
    "version": 2
   },
   "file_extension": ".py",
   "mimetype": "text/x-python",
   "name": "python",
   "nbconvert_exporter": "python",
   "pygments_lexer": "ipython2",
   "version": "2.7.6"
  }
 },
 "nbformat": 4,
 "nbformat_minor": 0
}
